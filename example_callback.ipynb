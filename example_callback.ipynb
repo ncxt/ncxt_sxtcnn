{
 "cells": [
  {
   "cell_type": "code",
   "execution_count": 2,
   "metadata": {
    "ExecuteTime": {
     "end_time": "2020-04-03T09:26:39.089080Z",
     "start_time": "2020-04-03T09:26:37.919147Z"
    },
    "scrolled": false
   },
   "outputs": [
    {
     "name": "stdout",
     "output_type": "stream",
     "text": [
      "The autoreload extension is already loaded. To reload it, use:\n",
      "  %reload_ext autoreload\n",
      "The nb_black extension is already loaded. To reload it, use:\n",
      "  %reload_ext nb_black\n"
     ]
    },
    {
     "data": {
      "application/javascript": [
       "\n",
       "            setTimeout(function() {\n",
       "                var nbb_cell_id = 2;\n",
       "                var nbb_unformatted_code = \"%load_ext autoreload\\n%autoreload 2\\n%load_ext nb_black\\nimport ncxt_sxtcnn\";\n",
       "                var nbb_formatted_code = \"%load_ext autoreload\\n%autoreload 2\\n%load_ext nb_black\\nimport ncxt_sxtcnn\";\n",
       "                var nbb_cells = Jupyter.notebook.get_cells();\n",
       "                for (var i = 0; i < nbb_cells.length; ++i) {\n",
       "                    if (nbb_cells[i].input_prompt_number == nbb_cell_id) {\n",
       "                        if (nbb_cells[i].get_text() == nbb_unformatted_code) {\n",
       "                             nbb_cells[i].set_text(nbb_formatted_code);\n",
       "                        }\n",
       "                        break;\n",
       "                    }\n",
       "                }\n",
       "            }, 500);\n",
       "            "
      ],
      "text/plain": [
       "<IPython.core.display.Javascript object>"
      ]
     },
     "metadata": {},
     "output_type": "display_data"
    }
   ],
   "source": [
    "%load_ext autoreload\n",
    "%autoreload 2\n",
    "%load_ext nb_black\n",
    "import ncxt_sxtcnn"
   ]
  },
  {
   "cell_type": "code",
   "execution_count": 3,
   "metadata": {
    "ExecuteTime": {
     "end_time": "2020-04-03T09:26:39.390900Z",
     "start_time": "2020-04-03T09:26:39.299099Z"
    }
   },
   "outputs": [
    {
     "data": {
      "application/javascript": [
       "\n",
       "            setTimeout(function() {\n",
       "                var nbb_cell_id = 3;\n",
       "                var nbb_unformatted_code = \"import logging\\n\\nlogger = logging.getLogger(\\\"ncxt_sxtcnn.sxtcnn\\\").setLevel(logging.ERROR)\";\n",
       "                var nbb_formatted_code = \"import logging\\n\\nlogger = logging.getLogger(\\\"ncxt_sxtcnn.sxtcnn\\\").setLevel(logging.ERROR)\";\n",
       "                var nbb_cells = Jupyter.notebook.get_cells();\n",
       "                for (var i = 0; i < nbb_cells.length; ++i) {\n",
       "                    if (nbb_cells[i].input_prompt_number == nbb_cell_id) {\n",
       "                        if (nbb_cells[i].get_text() == nbb_unformatted_code) {\n",
       "                             nbb_cells[i].set_text(nbb_formatted_code);\n",
       "                        }\n",
       "                        break;\n",
       "                    }\n",
       "                }\n",
       "            }, 500);\n",
       "            "
      ],
      "text/plain": [
       "<IPython.core.display.Javascript object>"
      ]
     },
     "metadata": {},
     "output_type": "display_data"
    }
   ],
   "source": [
    "import logging\n",
    "\n",
    "logger = logging.getLogger(\"ncxt_sxtcnn.sxtcnn\").setLevel(logging.ERROR)"
   ]
  },
  {
   "cell_type": "code",
   "execution_count": 4,
   "metadata": {
    "ExecuteTime": {
     "end_time": "2020-04-03T09:26:40.275234Z",
     "start_time": "2020-04-03T09:26:40.199823Z"
    }
   },
   "outputs": [
    {
     "data": {
      "application/javascript": [
       "\n",
       "            setTimeout(function() {\n",
       "                var nbb_cell_id = 4;\n",
       "                var nbb_unformatted_code = \"from ncxt_sxtcnn.sxtcnn.loaders import AmiraLoaderx100\\nfrom ncxt_sxtcnn.sxtcnn.models import UNet3D\\nfrom ncxt_sxtcnn.sxtcnn.processors import RandomBlockProcessor\\nfrom ncxt_sxtcnn.sxtcnn.criteria import CrossEntropyLoss_DiceLoss\";\n",
       "                var nbb_formatted_code = \"from ncxt_sxtcnn.sxtcnn.loaders import AmiraLoaderx100\\nfrom ncxt_sxtcnn.sxtcnn.models import UNet3D\\nfrom ncxt_sxtcnn.sxtcnn.processors import RandomBlockProcessor\\nfrom ncxt_sxtcnn.sxtcnn.criteria import CrossEntropyLoss_DiceLoss\";\n",
       "                var nbb_cells = Jupyter.notebook.get_cells();\n",
       "                for (var i = 0; i < nbb_cells.length; ++i) {\n",
       "                    if (nbb_cells[i].input_prompt_number == nbb_cell_id) {\n",
       "                        if (nbb_cells[i].get_text() == nbb_unformatted_code) {\n",
       "                             nbb_cells[i].set_text(nbb_formatted_code);\n",
       "                        }\n",
       "                        break;\n",
       "                    }\n",
       "                }\n",
       "            }, 500);\n",
       "            "
      ],
      "text/plain": [
       "<IPython.core.display.Javascript object>"
      ]
     },
     "metadata": {},
     "output_type": "display_data"
    }
   ],
   "source": [
    "from ncxt_sxtcnn.sxtcnn.loaders import AmiraLoaderx100\n",
    "from ncxt_sxtcnn.sxtcnn.models import UNet3D\n",
    "from ncxt_sxtcnn.sxtcnn.processors import RandomBlockProcessor\n",
    "from ncxt_sxtcnn.sxtcnn.criteria import CrossEntropyLoss_DiceLoss"
   ]
  },
  {
   "cell_type": "markdown",
   "metadata": {},
   "source": [
    "### Setup Database"
   ]
  },
  {
   "cell_type": "code",
   "execution_count": 5,
   "metadata": {
    "ExecuteTime": {
     "end_time": "2020-04-03T09:26:40.853211Z",
     "start_time": "2020-04-03T09:26:40.734531Z"
    }
   },
   "outputs": [
    {
     "name": "stdout",
     "output_type": "stream",
     "text": [
      "mockdata/\n"
     ]
    },
    {
     "name": "stderr",
     "output_type": "stream",
     "text": [
      "C:\\Users\\axela\\Miniconda3\\lib\\site-packages\\pandas\\core\\ops.py:1649: FutureWarning: elementwise comparison failed; returning scalar instead, but in the future will perform elementwise comparison\n",
      "  result = method(y)\n",
      "C:\\Users\\axela\\Miniconda3\\lib\\site-packages\\pandas\\core\\ops.py:1649: FutureWarning: elementwise comparison failed; returning scalar instead, but in the future will perform elementwise comparison\n",
      "  result = method(y)\n"
     ]
    },
    {
     "data": {
      "text/html": [
       "<div>\n",
       "<style scoped>\n",
       "    .dataframe tbody tr th:only-of-type {\n",
       "        vertical-align: middle;\n",
       "    }\n",
       "\n",
       "    .dataframe tbody tr th {\n",
       "        vertical-align: top;\n",
       "    }\n",
       "\n",
       "    .dataframe thead th {\n",
       "        text-align: right;\n",
       "    }\n",
       "</style>\n",
       "<table border=\"1\" class=\"dataframe\">\n",
       "  <thead>\n",
       "    <tr style=\"text-align: right;\">\n",
       "      <th></th>\n",
       "      <th>project</th>\n",
       "      <th>sample</th>\n",
       "      <th>endoplasmic reticulum</th>\n",
       "      <th>granule</th>\n",
       "      <th>ignore</th>\n",
       "      <th>lipid</th>\n",
       "      <th>membrane</th>\n",
       "      <th>mitochondria</th>\n",
       "      <th>nucleolus</th>\n",
       "      <th>nucleus</th>\n",
       "      <th>void</th>\n",
       "      <th>void1</th>\n",
       "    </tr>\n",
       "  </thead>\n",
       "  <tbody>\n",
       "    <tr>\n",
       "      <th>0</th>\n",
       "      <td>pi1</td>\n",
       "      <td>sample_12</td>\n",
       "      <td>7</td>\n",
       "      <td>4</td>\n",
       "      <td>9</td>\n",
       "      <td>6</td>\n",
       "      <td>8</td>\n",
       "      <td>5</td>\n",
       "      <td>3</td>\n",
       "      <td>2</td>\n",
       "      <td>0</td>\n",
       "      <td>1</td>\n",
       "    </tr>\n",
       "    <tr>\n",
       "      <th>1</th>\n",
       "      <td>pi2</td>\n",
       "      <td>sample_9</td>\n",
       "      <td>4</td>\n",
       "      <td></td>\n",
       "      <td></td>\n",
       "      <td>2</td>\n",
       "      <td>6</td>\n",
       "      <td>3</td>\n",
       "      <td>5</td>\n",
       "      <td>1</td>\n",
       "      <td>0</td>\n",
       "      <td></td>\n",
       "    </tr>\n",
       "  </tbody>\n",
       "</table>\n",
       "</div>"
      ],
      "text/plain": [
       "  project     sample  endoplasmic reticulum granule ignore  lipid  membrane  \\\n",
       "0     pi1  sample_12                      7       4      9      6         8   \n",
       "1     pi2   sample_9                      4                     2         6   \n",
       "\n",
       "   mitochondria  nucleolus  nucleus  void void1  \n",
       "0             5          3        2     0     1  \n",
       "1             3          5        1     0        "
      ]
     },
     "execution_count": 5,
     "metadata": {},
     "output_type": "execute_result"
    },
    {
     "data": {
      "application/javascript": [
       "\n",
       "            setTimeout(function() {\n",
       "                var nbb_cell_id = 5;\n",
       "                var nbb_unformatted_code = \"from ncxt_sxtcnn.hxdatabase import Database\\n\\ndb = Database(\\\"mockdata/\\\")\\nmembrane = [\\\"membrane\\\"]\\nnucleus = [\\\"euchromatin\\\", \\\"heterochromatin\\\", \\\"nucleus\\\", \\\"nucleolus\\\"]\\nnucleolus = [\\\"nucleolus\\\"]\\nhxfiles = db.filelist(membrane, nucleus, nucleolus)\\ndb.dataframe_sel(membrane, nucleus)\";\n",
       "                var nbb_formatted_code = \"from ncxt_sxtcnn.hxdatabase import Database\\n\\ndb = Database(\\\"mockdata/\\\")\\nmembrane = [\\\"membrane\\\"]\\nnucleus = [\\\"euchromatin\\\", \\\"heterochromatin\\\", \\\"nucleus\\\", \\\"nucleolus\\\"]\\nnucleolus = [\\\"nucleolus\\\"]\\nhxfiles = db.filelist(membrane, nucleus, nucleolus)\\ndb.dataframe_sel(membrane, nucleus)\";\n",
       "                var nbb_cells = Jupyter.notebook.get_cells();\n",
       "                for (var i = 0; i < nbb_cells.length; ++i) {\n",
       "                    if (nbb_cells[i].input_prompt_number == nbb_cell_id) {\n",
       "                        if (nbb_cells[i].get_text() == nbb_unformatted_code) {\n",
       "                             nbb_cells[i].set_text(nbb_formatted_code);\n",
       "                        }\n",
       "                        break;\n",
       "                    }\n",
       "                }\n",
       "            }, 500);\n",
       "            "
      ],
      "text/plain": [
       "<IPython.core.display.Javascript object>"
      ]
     },
     "metadata": {},
     "output_type": "display_data"
    }
   ],
   "source": [
    "from ncxt_sxtcnn.hxdatabase import Database\n",
    "\n",
    "db = Database(\"mockdata/\")\n",
    "membrane = [\"membrane\"]\n",
    "nucleus = [\"euchromatin\", \"heterochromatin\", \"nucleus\", \"nucleolus\"]\n",
    "nucleolus = [\"nucleolus\"]\n",
    "hxfiles = db.filelist(membrane, nucleus, nucleolus)\n",
    "db.dataframe_sel(membrane, nucleus)"
   ]
  },
  {
   "cell_type": "code",
   "execution_count": 6,
   "metadata": {
    "ExecuteTime": {
     "end_time": "2020-04-03T09:26:41.503982Z",
     "start_time": "2020-04-03T09:26:41.221684Z"
    }
   },
   "outputs": [
    {
     "data": {
      "image/png": "[encoded data removed]",
      "text/plain": [
       "<Figure size 936x360 with 4 Axes>"
      ]
     },
     "metadata": {},
     "output_type": "display_data"
    },
    {
     "data": {
      "application/javascript": [
       "\n",
       "            setTimeout(function() {\n",
       "                var nbb_cell_id = 6;\n",
       "                var nbb_unformatted_code = \"import ncxtamira\\n\\nproj = ncxtamira.CellProject(hxfiles[0])\\nproj.preview()\";\n",
       "                var nbb_formatted_code = \"import ncxtamira\\n\\nproj = ncxtamira.CellProject(hxfiles[0])\\nproj.preview()\";\n",
       "                var nbb_cells = Jupyter.notebook.get_cells();\n",
       "                for (var i = 0; i < nbb_cells.length; ++i) {\n",
       "                    if (nbb_cells[i].input_prompt_number == nbb_cell_id) {\n",
       "                        if (nbb_cells[i].get_text() == nbb_unformatted_code) {\n",
       "                             nbb_cells[i].set_text(nbb_formatted_code);\n",
       "                        }\n",
       "                        break;\n",
       "                    }\n",
       "                }\n",
       "            }, 500);\n",
       "            "
      ],
      "text/plain": [
       "<IPython.core.display.Javascript object>"
      ]
     },
     "metadata": {},
     "output_type": "display_data"
    }
   ],
   "source": [
    "import ncxtamira\n",
    "\n",
    "proj = ncxtamira.CellProject(hxfiles[0])\n",
    "proj.preview()"
   ]
  },
  {
   "cell_type": "code",
   "execution_count": 7,
   "metadata": {
    "ExecuteTime": {
     "end_time": "2020-04-03T09:26:42.343692Z",
     "start_time": "2020-04-03T09:26:42.198054Z"
    }
   },
   "outputs": [
    {
     "name": "stderr",
     "output_type": "stream",
     "text": [
      "C:\\Users\\axela\\Miniconda3\\lib\\site-packages\\pandas\\core\\ops.py:1649: FutureWarning: elementwise comparison failed; returning scalar instead, but in the future will perform elementwise comparison\n",
      "  result = method(y)\n"
     ]
    },
    {
     "data": {
      "application/javascript": [
       "\n",
       "            setTimeout(function() {\n",
       "                var nbb_cell_id = 7;\n",
       "                var nbb_unformatted_code = \"from ncxt_sxtcnn import Segmenter\\n\\nfiles = db.filelist(membrane, nucleus, nucleolus)\\nfeatures = [[\\\"*\\\"], nucleus, nucleolus]\\nworking_directory = \\\"C:/Users/axela/Documents/2020/example_wd/\\\"\\n\\nloader_args = {\\\"files\\\": files, \\\"features\\\": features}\\n\\nprocessor_args = {\\\"block_shape\\\": (16, 16, 16), \\\"binning\\\": 1}\\n\\nmodel_args = {\\n    \\\"num_classes\\\": len(features) + 1,\\n    \\\"depth\\\": 2,\\n    \\\"start_filts\\\": 32,\\n    \\\"dropout\\\": None,\\n    \\\"instancenorm\\\": True,\\n}\\ncrit_args = dict()\\nsettings = {\\\"maximum_iterations\\\": 10}\\n\\nsegmenter = Segmenter(\\n    AmiraLoaderx100,\\n    RandomBlockProcessor,\\n    UNet3D,\\n    CrossEntropyLoss_DiceLoss,\\n    loader_args,\\n    processor_args,\\n    model_args,\\n    crit_args,\\n    settings,\\n)\\nsegmenter.folder = working_directory\\nsegmenter.fold = 0\";\n",
       "                var nbb_formatted_code = \"from ncxt_sxtcnn import Segmenter\\n\\nfiles = db.filelist(membrane, nucleus, nucleolus)\\nfeatures = [[\\\"*\\\"], nucleus, nucleolus]\\nworking_directory = \\\"C:/Users/axela/Documents/2020/example_wd/\\\"\\n\\nloader_args = {\\\"files\\\": files, \\\"features\\\": features}\\n\\nprocessor_args = {\\\"block_shape\\\": (16, 16, 16), \\\"binning\\\": 1}\\n\\nmodel_args = {\\n    \\\"num_classes\\\": len(features) + 1,\\n    \\\"depth\\\": 2,\\n    \\\"start_filts\\\": 32,\\n    \\\"dropout\\\": None,\\n    \\\"instancenorm\\\": True,\\n}\\ncrit_args = dict()\\nsettings = {\\\"maximum_iterations\\\": 10}\\n\\nsegmenter = Segmenter(\\n    AmiraLoaderx100,\\n    RandomBlockProcessor,\\n    UNet3D,\\n    CrossEntropyLoss_DiceLoss,\\n    loader_args,\\n    processor_args,\\n    model_args,\\n    crit_args,\\n    settings,\\n)\\nsegmenter.folder = working_directory\\nsegmenter.fold = 0\";\n",
       "                var nbb_cells = Jupyter.notebook.get_cells();\n",
       "                for (var i = 0; i < nbb_cells.length; ++i) {\n",
       "                    if (nbb_cells[i].input_prompt_number == nbb_cell_id) {\n",
       "                        if (nbb_cells[i].get_text() == nbb_unformatted_code) {\n",
       "                             nbb_cells[i].set_text(nbb_formatted_code);\n",
       "                        }\n",
       "                        break;\n",
       "                    }\n",
       "                }\n",
       "            }, 500);\n",
       "            "
      ],
      "text/plain": [
       "<IPython.core.display.Javascript object>"
      ]
     },
     "metadata": {},
     "output_type": "display_data"
    }
   ],
   "source": [
    "from ncxt_sxtcnn import Segmenter\n",
    "\n",
    "files = db.filelist(membrane, nucleus, nucleolus)\n",
    "features = [[\"*\"], nucleus, nucleolus]\n",
    "working_directory = \"C:/Users/axela/Documents/2020/example_wd/\"\n",
    "\n",
    "loader_args = {\"files\": files, \"features\": features}\n",
    "\n",
    "processor_args = {\"block_shape\": (16, 16, 16), \"binning\": 1}\n",
    "\n",
    "model_args = {\n",
    "    \"num_classes\": len(features) + 1,\n",
    "    \"depth\": 2,\n",
    "    \"start_filts\": 32,\n",
    "    \"dropout\": None,\n",
    "    \"instancenorm\": True,\n",
    "}\n",
    "crit_args = dict()\n",
    "settings = {\"maximum_iterations\": 10}\n",
    "\n",
    "segmenter = Segmenter(\n",
    "    AmiraLoaderx100,\n",
    "    RandomBlockProcessor,\n",
    "    UNet3D,\n",
    "    CrossEntropyLoss_DiceLoss,\n",
    "    loader_args,\n",
    "    processor_args,\n",
    "    model_args,\n",
    "    crit_args,\n",
    "    settings,\n",
    ")\n",
    "segmenter.folder = working_directory\n",
    "segmenter.fold = 0"
   ]
  },
  {
   "cell_type": "code",
   "execution_count": 8,
   "metadata": {
    "ExecuteTime": {
     "end_time": "2020-04-03T09:28:05.331264Z",
     "start_time": "2020-04-03T09:26:43.849537Z"
    }
   },
   "outputs": [
    {
     "data": {
      "application/vnd.jupyter.widget-view+json": {
       "model_id": "28d6245d05034cfdba7a36f29da5e145",
       "version_major": 2,
       "version_minor": 0
      },
      "text/plain": [
       "HBox(children=(IntProgress(value=0, max=10), HTML(value='')))"
      ]
     },
     "metadata": {},
     "output_type": "display_data"
    },
    {
     "name": "stdout",
     "output_type": "stream",
     "text": [
      "\n"
     ]
    },
    {
     "data": {
      "application/javascript": [
       "\n",
       "            setTimeout(function() {\n",
       "                var nbb_cell_id = 8;\n",
       "                var nbb_unformatted_code = \"instance = segmenter.sxtcnn(0)\\ninstance.run()\";\n",
       "                var nbb_formatted_code = \"instance = segmenter.sxtcnn(0)\\ninstance.run()\";\n",
       "                var nbb_cells = Jupyter.notebook.get_cells();\n",
       "                for (var i = 0; i < nbb_cells.length; ++i) {\n",
       "                    if (nbb_cells[i].input_prompt_number == nbb_cell_id) {\n",
       "                        if (nbb_cells[i].get_text() == nbb_unformatted_code) {\n",
       "                             nbb_cells[i].set_text(nbb_formatted_code);\n",
       "                        }\n",
       "                        break;\n",
       "                    }\n",
       "                }\n",
       "            }, 500);\n",
       "            "
      ],
      "text/plain": [
       "<IPython.core.display.Javascript object>"
      ]
     },
     "metadata": {},
     "output_type": "display_data"
    }
   ],
   "source": [
    "instance = segmenter.sxtcnn(0)\n",
    "instance.run()"
   ]
  },
  {
   "cell_type": "code",
   "execution_count": 12,
   "metadata": {
    "ExecuteTime": {
     "end_time": "2020-04-03T09:31:11.661897Z",
     "start_time": "2020-04-03T09:29:44.692716Z"
    }
   },
   "outputs": [
    {
     "data": {
      "application/javascript": [
       "\n",
       "            setTimeout(function() {\n",
       "                var nbb_cell_id = 12;\n",
       "                var nbb_unformatted_code = \"instance = segmenter.sxtcnn(0)\\ninstance.run(show_progress=False)\";\n",
       "                var nbb_formatted_code = \"instance = segmenter.sxtcnn(0)\\ninstance.run(show_progress=False)\";\n",
       "                var nbb_cells = Jupyter.notebook.get_cells();\n",
       "                for (var i = 0; i < nbb_cells.length; ++i) {\n",
       "                    if (nbb_cells[i].input_prompt_number == nbb_cell_id) {\n",
       "                        if (nbb_cells[i].get_text() == nbb_unformatted_code) {\n",
       "                             nbb_cells[i].set_text(nbb_formatted_code);\n",
       "                        }\n",
       "                        break;\n",
       "                    }\n",
       "                }\n",
       "            }, 500);\n",
       "            "
      ],
      "text/plain": [
       "<IPython.core.display.Javascript object>"
      ]
     },
     "metadata": {},
     "output_type": "display_data"
    }
   ],
   "source": [
    "instance = segmenter.sxtcnn(0)\n",
    "instance.run(show_progress=False)"
   ]
  },
  {
   "cell_type": "code",
   "execution_count": 11,
   "metadata": {
    "ExecuteTime": {
     "end_time": "2020-04-03T09:12:45.382478Z",
     "start_time": "2020-04-03T09:11:28.437841Z"
    }
   },
   "outputs": [
    {
     "data": {
      "application/vnd.jupyter.widget-view+json": {
       "model_id": "3a8cbf6c72814ca3a17989fbba863501",
       "version_major": 2,
       "version_minor": 0
      },
      "text/plain": [
       "HBox(children=(IntProgress(value=0, max=10), HTML(value='')))"
      ]
     },
     "metadata": {},
     "output_type": "display_data"
    },
    {
     "name": "stdout",
     "output_type": "stream",
     "text": [
      "\n"
     ]
    },
    {
     "data": {
      "application/javascript": [
       "\n",
       "            setTimeout(function() {\n",
       "                var nbb_cell_id = 11;\n",
       "                var nbb_unformatted_code = \"instance.run()\";\n",
       "                var nbb_formatted_code = \"instance.run()\";\n",
       "                var nbb_cells = Jupyter.notebook.get_cells();\n",
       "                for (var i = 0; i < nbb_cells.length; ++i) {\n",
       "                    if (nbb_cells[i].input_prompt_number == nbb_cell_id) {\n",
       "                        if (nbb_cells[i].get_text() == nbb_unformatted_code) {\n",
       "                             nbb_cells[i].set_text(nbb_formatted_code);\n",
       "                        }\n",
       "                        break;\n",
       "                    }\n",
       "                }\n",
       "            }, 500);\n",
       "            "
      ],
      "text/plain": [
       "<IPython.core.display.Javascript object>"
      ]
     },
     "metadata": {},
     "output_type": "display_data"
    }
   ],
   "source": [
    "instance.run()"
   ]
  },
  {
   "cell_type": "code",
   "execution_count": 15,
   "metadata": {
    "ExecuteTime": {
     "end_time": "2020-04-03T09:13:21.043768Z",
     "start_time": "2020-04-03T09:13:20.948990Z"
    }
   },
   "outputs": [
    {
     "name": "stdout",
     "output_type": "stream",
     "text": [
      "2\n"
     ]
    },
    {
     "data": {
      "application/javascript": [
       "\n",
       "            setTimeout(function() {\n",
       "                var nbb_cell_id = 15;\n",
       "                var nbb_unformatted_code = \"print(instance.device.split(\\\":\\\")[1])\";\n",
       "                var nbb_formatted_code = \"print(instance.device.split(\\\":\\\")[1])\";\n",
       "                var nbb_cells = Jupyter.notebook.get_cells();\n",
       "                for (var i = 0; i < nbb_cells.length; ++i) {\n",
       "                    if (nbb_cells[i].input_prompt_number == nbb_cell_id) {\n",
       "                        if (nbb_cells[i].get_text() == nbb_unformatted_code) {\n",
       "                             nbb_cells[i].set_text(nbb_formatted_code);\n",
       "                        }\n",
       "                        break;\n",
       "                    }\n",
       "                }\n",
       "            }, 500);\n",
       "            "
      ],
      "text/plain": [
       "<IPython.core.display.Javascript object>"
      ]
     },
     "metadata": {},
     "output_type": "display_data"
    }
   ],
   "source": [
    "print(instance.device.split(\":\")[1])"
   ]
  },
  {
   "cell_type": "code",
   "execution_count": 7,
   "metadata": {
    "ExecuteTime": {
     "end_time": "2020-04-03T09:08:45.410227Z",
     "start_time": "2020-04-03T09:08:45.328446Z"
    }
   },
   "outputs": [
    {
     "data": {
      "application/javascript": [
       "\n",
       "            setTimeout(function() {\n",
       "                var nbb_cell_id = 7;\n",
       "                var nbb_unformatted_code = \"class Status():\\n    def __init__(self):\\n        self.c =0\\n        \\nstatus = Status()\\n\\ndef callback(inst):\\n    print('epcoch', inst.epoch)\\n    status.c+=1\\n    \";\n",
       "                var nbb_formatted_code = \"class Status:\\n    def __init__(self):\\n        self.c = 0\\n\\n\\nstatus = Status()\\n\\n\\ndef callback(inst):\\n    print(\\\"epcoch\\\", inst.epoch)\\n    status.c += 1\";\n",
       "                var nbb_cells = Jupyter.notebook.get_cells();\n",
       "                for (var i = 0; i < nbb_cells.length; ++i) {\n",
       "                    if (nbb_cells[i].input_prompt_number == nbb_cell_id) {\n",
       "                        if (nbb_cells[i].get_text() == nbb_unformatted_code) {\n",
       "                             nbb_cells[i].set_text(nbb_formatted_code);\n",
       "                        }\n",
       "                        break;\n",
       "                    }\n",
       "                }\n",
       "            }, 500);\n",
       "            "
      ],
      "text/plain": [
       "<IPython.core.display.Javascript object>"
      ]
     },
     "metadata": {},
     "output_type": "display_data"
    }
   ],
   "source": [
    "class Status():\n",
    "    def __init__(self):\n",
    "        self.c =0\n",
    "        \n",
    "status = Status()\n",
    "\n",
    "def callback(inst):\n",
    "    print('epcoch', inst.epoch)\n",
    "    status.c+=1\n",
    "    \n"
   ]
  },
  {
   "cell_type": "code",
   "execution_count": 10,
   "metadata": {
    "ExecuteTime": {
     "end_time": "2020-04-03T09:07:16.113732Z",
     "start_time": "2020-04-03T09:07:12.394669Z"
    }
   },
   "outputs": [
    {
     "ename": "AttributeError",
     "evalue": "'SXTCNN' object has no attribute 'model_size'",
     "output_type": "error",
     "traceback": [
      "\u001b[1;31m---------------------------------------------------------------------------\u001b[0m",
      "\u001b[1;31mAttributeError\u001b[0m                            Traceback (most recent call last)",
      "\u001b[1;32m<ipython-input-10-2af35a5c6611>\u001b[0m in \u001b[0;36m<module>\u001b[1;34m\u001b[0m\n\u001b[0;32m      1\u001b[0m \u001b[0minstance\u001b[0m \u001b[1;33m=\u001b[0m \u001b[0msegmenter\u001b[0m\u001b[1;33m.\u001b[0m\u001b[0msxtcnn\u001b[0m\u001b[1;33m(\u001b[0m\u001b[1;36m0\u001b[0m\u001b[1;33m)\u001b[0m\u001b[1;33m\u001b[0m\u001b[1;33m\u001b[0m\u001b[0m\n\u001b[1;32m----> 2\u001b[1;33m \u001b[0mprint\u001b[0m\u001b[1;33m(\u001b[0m\u001b[0minstance\u001b[0m\u001b[1;33m.\u001b[0m\u001b[0mmodel_size\u001b[0m\u001b[1;33m)\u001b[0m\u001b[1;33m\u001b[0m\u001b[1;33m\u001b[0m\u001b[0m\n\u001b[0m",
      "\u001b[1;31mAttributeError\u001b[0m: 'SXTCNN' object has no attribute 'model_size'"
     ]
    },
    {
     "data": {
      "application/javascript": [
       "\n",
       "            setTimeout(function() {\n",
       "                var nbb_cell_id = 10;\n",
       "                var nbb_unformatted_code = \"instance = segmenter.sxtcnn(0)\\nprint(instance.model_size)\";\n",
       "                var nbb_formatted_code = \"instance = segmenter.sxtcnn(0)\\nprint(instance.model_size)\";\n",
       "                var nbb_cells = Jupyter.notebook.get_cells();\n",
       "                for (var i = 0; i < nbb_cells.length; ++i) {\n",
       "                    if (nbb_cells[i].input_prompt_number == nbb_cell_id) {\n",
       "                        if (nbb_cells[i].get_text() == nbb_unformatted_code) {\n",
       "                             nbb_cells[i].set_text(nbb_formatted_code);\n",
       "                        }\n",
       "                        break;\n",
       "                    }\n",
       "                }\n",
       "            }, 500);\n",
       "            "
      ],
      "text/plain": [
       "<IPython.core.display.Javascript object>"
      ]
     },
     "metadata": {},
     "output_type": "display_data"
    }
   ],
   "source": []
  },
  {
   "cell_type": "code",
   "execution_count": 8,
   "metadata": {
    "ExecuteTime": {
     "end_time": "2020-04-03T07:56:04.344782Z",
     "start_time": "2020-04-03T07:54:44.165920Z"
    }
   },
   "outputs": [
    {
     "data": {
      "application/vnd.jupyter.widget-view+json": {
       "model_id": "c0b45a53e86e4065ba7372c55a584d50",
       "version_major": 2,
       "version_minor": 0
      },
      "text/plain": [
       "HBox(children=(IntProgress(value=0, max=10), HTML(value='')))"
      ]
     },
     "metadata": {},
     "output_type": "display_data"
    },
    {
     "name": "stdout",
     "output_type": "stream",
     "text": [
      "epcoch 1\n",
      "epcoch 2\n",
      "epcoch 3\n",
      "epcoch 4\n",
      "epcoch 5\n",
      "epcoch 6\n",
      "epcoch 7\n",
      "epcoch 8\n",
      "epcoch 9\n",
      "epcoch 10\n",
      "\n"
     ]
    },
    {
     "data": {
      "image/png": "[encoded data removed]",
      "text/plain": [
       "<Figure size 936x360 with 3 Axes>"
      ]
     },
     "metadata": {
      "needs_background": "light"
     },
     "output_type": "display_data"
    },
    {
     "data": {
      "application/javascript": [
       "\n",
       "            setTimeout(function() {\n",
       "                var nbb_cell_id = 8;\n",
       "                var nbb_unformatted_code = \"instance = segmenter.sxtcnn(0)\\ninstance.iter_callback=callback\\ninstance.run()\\ninstance.logger.plot()\";\n",
       "                var nbb_formatted_code = \"instance = segmenter.sxtcnn(0)\\ninstance.iter_callback = callback\\ninstance.run()\\ninstance.logger.plot()\";\n",
       "                var nbb_cells = Jupyter.notebook.get_cells();\n",
       "                for (var i = 0; i < nbb_cells.length; ++i) {\n",
       "                    if (nbb_cells[i].input_prompt_number == nbb_cell_id) {\n",
       "                        if (nbb_cells[i].get_text() == nbb_unformatted_code) {\n",
       "                             nbb_cells[i].set_text(nbb_formatted_code);\n",
       "                        }\n",
       "                        break;\n",
       "                    }\n",
       "                }\n",
       "            }, 500);\n",
       "            "
      ],
      "text/plain": [
       "<IPython.core.display.Javascript object>"
      ]
     },
     "metadata": {},
     "output_type": "display_data"
    }
   ],
   "source": [
    "instance.iter_callback = callback\n",
    "instance.run()\n",
    "instance.logger.plot()"
   ]
  },
  {
   "cell_type": "code",
   "execution_count": 9,
   "metadata": {
    "ExecuteTime": {
     "end_time": "2020-04-03T07:56:04.436537Z",
     "start_time": "2020-04-03T07:56:04.355753Z"
    }
   },
   "outputs": [
    {
     "name": "stdout",
     "output_type": "stream",
     "text": [
      "10\n"
     ]
    },
    {
     "data": {
      "application/javascript": [
       "\n",
       "            setTimeout(function() {\n",
       "                var nbb_cell_id = 9;\n",
       "                var nbb_unformatted_code = \"print(status.c)\";\n",
       "                var nbb_formatted_code = \"print(status.c)\";\n",
       "                var nbb_cells = Jupyter.notebook.get_cells();\n",
       "                for (var i = 0; i < nbb_cells.length; ++i) {\n",
       "                    if (nbb_cells[i].input_prompt_number == nbb_cell_id) {\n",
       "                        if (nbb_cells[i].get_text() == nbb_unformatted_code) {\n",
       "                             nbb_cells[i].set_text(nbb_formatted_code);\n",
       "                        }\n",
       "                        break;\n",
       "                    }\n",
       "                }\n",
       "            }, 500);\n",
       "            "
      ],
      "text/plain": [
       "<IPython.core.display.Javascript object>"
      ]
     },
     "metadata": {},
     "output_type": "display_data"
    }
   ],
   "source": [
    "print(status.c)"
   ]
  },
  {
   "cell_type": "code",
   "execution_count": null,
   "metadata": {},
   "outputs": [],
   "source": []
  }
 ],
 "metadata": {
  "kernelspec": {
   "display_name": "Python 3",
   "language": "python",
   "name": "python3"
  },
  "language_info": {
   "codemirror_mode": {
    "name": "ipython",
    "version": 3
   },
   "file_extension": ".py",
   "mimetype": "text/x-python",
   "name": "python",
   "nbconvert_exporter": "python",
   "pygments_lexer": "ipython3",
   "version": "3.7.3"
  },
  "toc": {
   "nav_menu": {},
   "number_sections": true,
   "sideBar": true,
   "skip_h1_title": false,
   "toc_cell": false,
   "toc_position": {},
   "toc_section_display": "block",
   "toc_window_display": false
  }
 },
 "nbformat": 4,
 "nbformat_minor": 2
}
