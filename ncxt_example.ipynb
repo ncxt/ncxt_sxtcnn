{
 "cells": [
  {
   "cell_type": "code",
   "execution_count": 1,
   "metadata": {
    "ExecuteTime": {
     "end_time": "2019-05-16T11:47:32.094216Z",
     "start_time": "2019-05-16T11:47:30.649645Z"
    }
   },
   "outputs": [],
   "source": [
    "%load_ext autoreload\n",
    "%autoreload 2\n",
    "import ncxt_sxtcnn"
   ]
  },
  {
   "cell_type": "code",
   "execution_count": 2,
   "metadata": {
    "ExecuteTime": {
     "end_time": "2019-05-16T11:47:53.865854Z",
     "start_time": "2019-05-16T11:47:53.778072Z"
    }
   },
   "outputs": [],
   "source": [
    "from ncxt_sxtcnn.sxtcnn.factory import SegFactory\n",
    "from ncxt_sxtcnn.sxtcnn.dataloaders import NCXTDBLoader,NCXTDBCNNLoader\n",
    "from ncxt_sxtcnn.sxtcnn.models import UNet3D\n",
    "from ncxt_sxtcnn.sxtcnn.datainitializers import RandomBlockProcessor"
   ]
  },
  {
   "cell_type": "code",
   "execution_count": null,
   "metadata": {},
   "outputs": [],
   "source": []
  }
 ],
 "metadata": {
  "kernelspec": {
   "display_name": "Python 3",
   "language": "python",
   "name": "python3"
  },
  "language_info": {
   "codemirror_mode": {
    "name": "ipython",
    "version": 3
   },
   "file_extension": ".py",
   "mimetype": "text/x-python",
   "name": "python",
   "nbconvert_exporter": "python",
   "pygments_lexer": "ipython3",
   "version": "3.7.3"
  }
 },
 "nbformat": 4,
 "nbformat_minor": 2
}
