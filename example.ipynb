{
 "cells": [
  {
   "cell_type": "code",
   "execution_count": 4,
   "metadata": {
    "ExecuteTime": {
     "end_time": "2019-05-06T18:30:05.869587Z",
     "start_time": "2019-05-06T18:30:05.639422Z"
    }
   },
   "outputs": [
    {
     "name": "stdout",
     "output_type": "stream",
     "text": [
      "The autoreload extension is already loaded. To reload it, use:\n",
      "  %reload_ext autoreload\n"
     ]
    }
   ],
   "source": [
    "%load_ext autoreload\n",
    "%autoreload 2\n",
    "%matplotlib inline\n",
    "import numpy as np\n",
    "import ncxt_sxtcnn "
   ]
  },
  {
   "cell_type": "markdown",
   "metadata": {},
   "source": [
    "## Loaders\n",
    "The loader acts as the link between the annotated SXT data and the task in hand. The loader transforms both the LAC (e.g., normalization) of the image and the annotated mask (material values) to a common format and wraps everything into an iterable class.\n",
    "\n",
    "Loaders can be extended to include more that one channel fo input data."
   ]
  },
  {
   "cell_type": "code",
   "execution_count": 6,
   "metadata": {
    "ExecuteTime": {
     "end_time": "2019-05-06T18:30:06.907252Z",
     "start_time": "2019-05-06T18:30:06.645301Z"
    }
   },
   "outputs": [
    {
     "name": "stdout",
     "output_type": "stream",
     "text": [
      "Loader is an iterable class of samples.\n",
      "Each sample contains:\n",
      "\n",
      "input (1, 32, 32, 32)\n",
      "target (32, 32, 32)\n",
      "key {'material_0': 0, 'material_1': 1, 'material_2': 2}\n"
     ]
    }
   ],
   "source": [
    "from ncxt_sxtcnn.sxtcnn.dataloaders import NCXTMockLoader\n",
    "loader = NCXTMockLoader(shape=(32, 32, 32), labels=3, length=3)\n",
    "\n",
    "print(\"Loader is an iterable class of samples.\\nEach sample contains:\\n\")\n",
    "item = loader[0]\n",
    "for k,v in item.items():\n",
    "    if isinstance(item[k], np.ndarray):\n",
    "        print(k, v.shape)\n",
    "    else:\n",
    "        print(k,v)"
   ]
  },
  {
   "cell_type": "markdown",
   "metadata": {},
   "source": [
    "NCXTDBLoader feeds of an argument database, so that thte __getitem__ loads the actual data\n",
    "``` python\n",
    "def __getitem__(self, index):\n",
    "        record = self.db[index]\n",
    "        lac = read_mrc(record[\"data\"])\n",
    "        label = read_mrc(record[\"annotation\"])\n",
    "```"
   ]
  },
  {
   "cell_type": "markdown",
   "metadata": {},
   "source": [
    "## Processor\n",
    "Processors act as the intermediate dataflow from the whole samples into processable blocks.\n",
    "\n",
    "to conform to a common standard, derive class from the ABC\n",
    "DataProcessor, which contains three abstarc methods:\n",
    " - forward(self,data) -- from data to network intput \n",
    " - backward(self, data) -- from network output to processed volume\n",
    " - init_data(*args)  -- Because of memory limitations, we initialize the train and test data to a temporary working directory. Init_data handles the serialization of this data.\n"
   ]
  },
  {
   "cell_type": "code",
   "execution_count": 7,
   "metadata": {
    "ExecuteTime": {
     "end_time": "2019-05-06T18:30:08.649584Z",
     "start_time": "2019-05-06T18:30:08.325399Z"
    }
   },
   "outputs": [],
   "source": [
    "processor = ncxt_sxtcnn.datainitializers.RandomBlockProcessor(\n",
    "    block_shape=(8,8,8), \n",
    "    binning=2,  \n",
    "    sampling=1.0)\n",
    "\n",
    "\n"
   ]
  },
  {
   "cell_type": "markdown",
   "metadata": {},
   "source": [
    "## Model\n",
    "The models are derived from torch.nn.Module"
   ]
  },
  {
   "cell_type": "code",
   "execution_count": 10,
   "metadata": {
    "ExecuteTime": {
     "end_time": "2019-05-06T18:34:07.616465Z",
     "start_time": "2019-05-06T18:34:07.211381Z"
    }
   },
   "outputs": [],
   "source": [
    "model = ncxt_sxtcnn.sxtcnn.models.UNet3D(3)"
   ]
  },
  {
   "cell_type": "markdown",
   "metadata": {},
   "source": [
    "## Wrap it up!"
   ]
  },
  {
   "cell_type": "code",
   "execution_count": 14,
   "metadata": {
    "ExecuteTime": {
     "end_time": "2019-05-06T18:35:30.306509Z",
     "start_time": "2019-05-06T18:35:30.032248Z"
    }
   },
   "outputs": [],
   "source": [
    "params = {\n",
    "    \"name\": f\"example\",\n",
    "    \"device\": \"cpu\",\n",
    "    \"working_directory\": '__tempwd__/',\n",
    "}\n",
    "seg = ncxt_sxtcnn.sxtcnn.sxt_cnn_wrapper.SXT_CNN_WRAPPER(\n",
    "    loader, model, processor, params=params)\n"
   ]
  },
  {
   "cell_type": "code",
   "execution_count": null,
   "metadata": {},
   "outputs": [],
   "source": []
  },
  {
   "cell_type": "code",
   "execution_count": null,
   "metadata": {},
   "outputs": [],
   "source": []
  }
 ],
 "metadata": {
  "kernelspec": {
   "display_name": "Python 3",
   "language": "python",
   "name": "python3"
  },
  "toc": {
   "nav_menu": {},
   "number_sections": true,
   "sideBar": true,
   "skip_h1_title": false,
   "toc_cell": false,
   "toc_position": {},
   "toc_section_display": "block",
   "toc_window_display": false
  }
 },
 "nbformat": 4,
 "nbformat_minor": 2
}
