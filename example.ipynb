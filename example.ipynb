{
 "cells": [
  {
   "cell_type": "code",
   "execution_count": 26,
   "metadata": {
    "ExecuteTime": {
     "end_time": "2019-05-16T11:03:44.095846Z",
     "start_time": "2019-05-16T11:03:43.943845Z"
    }
   },
   "outputs": [
    {
     "name": "stdout",
     "output_type": "stream",
     "text": [
      "The autoreload extension is already loaded. To reload it, use:\n",
      "  %reload_ext autoreload\n"
     ]
    }
   ],
   "source": [
    "%load_ext autoreload\n",
    "%autoreload 2\n",
    "%matplotlib inline\n",
    "import numpy as np\n",
    "import ncxt_sxtcnn "
   ]
  },
  {
   "cell_type": "markdown",
   "metadata": {},
   "source": [
    "## Loaders\n",
    "The loader acts as the link between the annotated SXT data and the task in hand. The loader transforms both the LAC (e.g., normalization) of the image and the annotated mask (material values) to a common format and wraps everything into an iterable class.\n",
    "\n",
    "Loaders can be extended to include more that one channel fo input data."
   ]
  },
  {
   "cell_type": "code",
   "execution_count": 23,
   "metadata": {
    "ExecuteTime": {
     "end_time": "2019-05-16T10:59:43.879015Z",
     "start_time": "2019-05-16T10:59:43.709018Z"
    }
   },
   "outputs": [
    {
     "name": "stdout",
     "output_type": "stream",
     "text": [
      "Loader is an iterable class of samples.\n",
      "Each sample contains:\n",
      "\n",
      "input (1, 32, 32, 32)\n",
      "target (32, 32, 32)\n",
      "key {'material_0': 0, 'material_1': 1, 'material_2': 2}\n"
     ]
    }
   ],
   "source": [
    "from ncxt_sxtcnn.sxtcnn.dataloaders import NCXTMockLoader\n",
    "loader = NCXTMockLoader(shape=(32, 32, 32), labels=3, length=3)\n",
    "\n",
    "print(\"Loader is an iterable class of samples.\\nEach sample contains:\\n\")\n",
    "item = loader[0]\n",
    "for k,v in item.items():\n",
    "    if isinstance(item[k], np.ndarray):\n",
    "        print(k, v.shape)\n",
    "    else:\n",
    "        print(k,v)"
   ]
  },
  {
   "cell_type": "markdown",
   "metadata": {},
   "source": [
    "NCXTDBLoader feeds of an argument database, so that thte __getitem__ loads the actual data\n",
    "``` python\n",
    "def __getitem__(self, index):\n",
    "        record = self.db[index]\n",
    "        lac = read_mrc(record[\"data\"])\n",
    "        label = read_mrc(record[\"annotation\"])\n",
    "```"
   ]
  },
  {
   "cell_type": "markdown",
   "metadata": {},
   "source": [
    "For use on new data, it's convenient to define e.g.\n",
    "``` python\n",
    "def __call__(self, data):\n",
    "        retval = self.required_pre_processing_of_the_data(data)    \n",
    "        return retval.reshape(1, *retval.shape)\n",
    "```\n",
    "The CNN eats 4d arrays, where the first dimension is the number of channels.\n",
    "For pure LAC, we reshape it onto (1,*shape)"
   ]
  },
  {
   "cell_type": "markdown",
   "metadata": {},
   "source": [
    "## Processor\n",
    "Processors act as the intermediate dataflow from the whole samples into processable blocks.\n",
    "\n",
    "to conform to a common standard, derive class from the ABC\n",
    "DataProcessor, which contains three abstarc methods:\n",
    " - forward(self,data) -- from data to network intput \n",
    " - backward(self, data) -- from network output to processed volume\n",
    " - init_data(*args)  -- Because of memory limitations, we initialize the train and test data to a temporary working directory. Init_data handles the serialization of this data.\n"
   ]
  },
  {
   "cell_type": "code",
   "execution_count": 11,
   "metadata": {
    "ExecuteTime": {
     "end_time": "2019-05-16T10:54:36.485800Z",
     "start_time": "2019-05-16T10:54:36.319806Z"
    }
   },
   "outputs": [],
   "source": [
    "processor = ncxt_sxtcnn.datainitializers.RandomBlockProcessor(\n",
    "    block_shape=(8,8,8), \n",
    "    binning=2,  \n",
    "    sampling=1.0)"
   ]
  },
  {
   "cell_type": "markdown",
   "metadata": {},
   "source": [
    "## Model\n",
    "The models are derived from torch.nn.Module"
   ]
  },
  {
   "cell_type": "code",
   "execution_count": 17,
   "metadata": {
    "ExecuteTime": {
     "end_time": "2019-05-16T10:55:35.832269Z",
     "start_time": "2019-05-16T10:55:35.523272Z"
    }
   },
   "outputs": [
    {
     "name": "stdout",
     "output_type": "stream",
     "text": [
      "----------------------------------------------------------------\n",
      "        Layer (type)               Output Shape         Param #\n",
      "================================================================\n",
      "            Conv3d-1          [-1, 32, 8, 8, 8]             896\n",
      "            Conv3d-2          [-1, 32, 8, 8, 8]          27,680\n",
      "         MaxPool3d-3          [-1, 32, 4, 4, 4]               0\n",
      "          DownConv-4  [[-1, 32, 4, 4, 4], [-1, 32, 8, 8, 8]]               0\n",
      "            Conv3d-5          [-1, 64, 4, 4, 4]          55,360\n",
      "            Conv3d-6          [-1, 64, 4, 4, 4]         110,656\n",
      "         MaxPool3d-7          [-1, 64, 2, 2, 2]               0\n",
      "          DownConv-8  [[-1, 64, 2, 2, 2], [-1, 64, 4, 4, 4]]               0\n",
      "            Conv3d-9         [-1, 128, 2, 2, 2]         221,312\n",
      "           Conv3d-10         [-1, 128, 2, 2, 2]         442,496\n",
      "         DownConv-11  [[-1, 128, 2, 2, 2], [-1, 128, 2, 2, 2]]               0\n",
      "  ConvTranspose3d-12          [-1, 64, 4, 4, 4]          65,600\n",
      "           Conv3d-13          [-1, 64, 4, 4, 4]         221,248\n",
      "           Conv3d-14          [-1, 64, 4, 4, 4]         110,656\n",
      "           UpConv-15          [-1, 64, 4, 4, 4]               0\n",
      "  ConvTranspose3d-16          [-1, 32, 8, 8, 8]          16,416\n",
      "           Conv3d-17          [-1, 32, 8, 8, 8]          55,328\n",
      "           Conv3d-18          [-1, 32, 8, 8, 8]          27,680\n",
      "           UpConv-19          [-1, 32, 8, 8, 8]               0\n",
      "           Conv3d-20           [-1, 3, 8, 8, 8]              99\n",
      "================================================================\n",
      "Total size: 154,112\n",
      "Total params: 1,355,427\n",
      "Trainable params: 1,355,427\n",
      "Non-trainable params: 0\n",
      "Input size: 512\n",
      "params size: 1355427\n",
      "Internal size: 308224\n",
      "Input size: 2.0 KB\n",
      "Params size: 5.17 MB\n",
      "Total size: 6.35 MB\n",
      "----------------------------------------------------------------\n"
     ]
    }
   ],
   "source": [
    "model = ncxt_sxtcnn.sxtcnn.models.UNet3D(3)\n",
    "model.summary((1,8,8,8))"
   ]
  },
  {
   "cell_type": "markdown",
   "metadata": {},
   "source": [
    "## Wrap it up!"
   ]
  },
  {
   "cell_type": "code",
   "execution_count": 18,
   "metadata": {
    "ExecuteTime": {
     "end_time": "2019-05-16T10:55:41.365731Z",
     "start_time": "2019-05-16T10:55:41.213717Z"
    }
   },
   "outputs": [
    {
     "name": "stdout",
     "output_type": "stream",
     "text": [
      "Data folder __tempwd__\\train already exists\n"
     ]
    }
   ],
   "source": [
    "params = {\n",
    "    \"name\": f\"example\",\n",
    "    \"device\": \"cpu\",\n",
    "    \"working_directory\": '__tempwd__/',\n",
    "}\n",
    "seg = ncxt_sxtcnn.sxtcnn.sxt_cnn_wrapper.SXT_CNN_WRAPPER(\n",
    "    loader, model, processor, params=params)\n",
    "\n",
    "seg.init_data(train_idx=[0,1], test_idx=[2,])\n",
    "# calls the assigned processors init_data() method\n",
    "# and stores the test and training data in the working directory"
   ]
  },
  {
   "cell_type": "code",
   "execution_count": 19,
   "metadata": {
    "ExecuteTime": {
     "end_time": "2019-05-16T10:58:03.691784Z",
     "start_time": "2019-05-16T10:55:47.150471Z"
    }
   },
   "outputs": [
    {
     "name": "stdout",
     "output_type": "stream",
     "text": [
      "Training for 10 epochs\n"
     ]
    },
    {
     "data": {
      "application/vnd.jupyter.widget-view+json": {
       "model_id": "f5ee118991bc490895da38f5ddf4d50d",
       "version_major": 2,
       "version_minor": 0
      },
      "text/html": [
       "<p>Failed to display Jupyter Widget of type <code>HBox</code>.</p>\n",
       "<p>\n",
       "  If you're reading this message in the Jupyter Notebook or JupyterLab Notebook, it may mean\n",
       "  that the widgets JavaScript is still loading. If this message persists, it\n",
       "  likely means that the widgets JavaScript library is either not installed or\n",
       "  not enabled. See the <a href=\"https://ipywidgets.readthedocs.io/en/stable/user_install.html\">Jupyter\n",
       "  Widgets Documentation</a> for setup instructions.\n",
       "</p>\n",
       "<p>\n",
       "  If you're reading this message in another frontend (for example, a static\n",
       "  rendering on GitHub or <a href=\"https://nbviewer.jupyter.org/\">NBViewer</a>),\n",
       "  it may mean that your frontend doesn't currently support widgets.\n",
       "</p>\n"
      ],
      "text/plain": [
       "HBox(children=(IntProgress(value=0, max=10), HTML(value='')))"
      ]
     },
     "metadata": {},
     "output_type": "display_data"
    },
    {
     "name": "stdout",
     "output_type": "stream",
     "text": [
      "\n"
     ]
    },
    {
     "data": {
      "image/png": "[encoded data removed]",
      "text/plain": [
       "<Figure size 936x360 with 3 Axes>"
      ]
     },
     "metadata": {},
     "output_type": "display_data"
    }
   ],
   "source": [
    "seg.run()\n",
    "seg.plot_train()"
   ]
  },
  {
   "cell_type": "markdown",
   "metadata": {},
   "source": [
    "## Input of raw (unseen) images\n",
    "Default forward and backward method for Processors (as for RandomBlockProcessor)\n",
    "\n",
    "As the data is done via extracted and fused blocks of data, \n",
    "the input does not have to be of any specific size."
   ]
  },
  {
   "cell_type": "code",
   "execution_count": 30,
   "metadata": {
    "ExecuteTime": {
     "end_time": "2019-05-16T11:10:43.413315Z",
     "start_time": "2019-05-16T11:10:43.139354Z"
    }
   },
   "outputs": [],
   "source": [
    "test_data = np.random.random((31,32,21))\n",
    "input_data  = loader(test_data)\n",
    "output_data = seg.apply(input_data)"
   ]
  },
  {
   "cell_type": "code",
   "execution_count": null,
   "metadata": {},
   "outputs": [],
   "source": []
  }
 ],
 "metadata": {
  "kernelspec": {
   "display_name": "Python 3",
   "language": "python",
   "name": "python3"
  },
  "language_info": {
   "codemirror_mode": {
    "name": "ipython",
    "version": 3
   },
   "file_extension": ".py",
   "mimetype": "text/x-python",
   "name": "python",
   "nbconvert_exporter": "python",
   "pygments_lexer": "ipython3",
   "version": "3.6.3"
  },
  "toc": {
   "nav_menu": {},
   "number_sections": true,
   "sideBar": true,
   "skip_h1_title": false,
   "toc_cell": false,
   "toc_position": {},
   "toc_section_display": "block",
   "toc_window_display": false
  }
 },
 "nbformat": 4,
 "nbformat_minor": 2
}
